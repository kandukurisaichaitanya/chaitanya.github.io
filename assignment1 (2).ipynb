{
 "cells": [
  {
   "cell_type": "code",
   "execution_count": 24,
   "id": "40713acf-0e8d-438c-9b0b-48876c05257f",
   "metadata": {},
   "outputs": [],
   "source": [
    "'''1st question'''\n",
    "b1=(\"chai\" ,79.52 ,(34,55,34),[\"aashu\",23,\"bhavya\"])"
   ]
  },
  {
   "cell_type": "code",
   "execution_count": 25,
   "id": "0fed9059-1749-44db-8216-7bff764fee93",
   "metadata": {},
   "outputs": [
    {
     "data": {
      "text/plain": [
       "tuple"
      ]
     },
     "execution_count": 25,
     "metadata": {},
     "output_type": "execute_result"
    }
   ],
   "source": [
    "type(b1)"
   ]
  },
  {
   "cell_type": "code",
   "execution_count": 26,
   "id": "b0cfae6e-14dc-4fc3-bc45-46b9ab1e38c3",
   "metadata": {},
   "outputs": [
    {
     "name": "stdout",
     "output_type": "stream",
     "text": [
      "<class 'str'>\n"
     ]
    }
   ],
   "source": [
    "\n",
    "data_type = type(b1[0])\n",
    "print(data_type)"
   ]
  },
  {
   "cell_type": "code",
   "execution_count": 27,
   "id": "de518723-b339-4960-a435-528b429b094d",
   "metadata": {},
   "outputs": [
    {
     "name": "stdout",
     "output_type": "stream",
     "text": [
      "<class 'tuple'>\n"
     ]
    }
   ],
   "source": [
    "data_type = type(b1[2])\n",
    "print(data_type)"
   ]
  },
  {
   "cell_type": "code",
   "execution_count": 28,
   "id": "92e2f4e5-63d4-481e-bf35-8aef66cb10db",
   "metadata": {},
   "outputs": [
    {
     "name": "stdout",
     "output_type": "stream",
     "text": [
      "<class 'list'>\n"
     ]
    }
   ],
   "source": [
    "data_type = type(b1[3])\n",
    "print(data_type)"
   ]
  },
  {
   "cell_type": "code",
   "execution_count": 29,
   "id": "9282b78e-0677-491c-ae5f-7c28c8cc730e",
   "metadata": {},
   "outputs": [
    {
     "name": "stdout",
     "output_type": "stream",
     "text": [
      "<class 'float'>\n"
     ]
    }
   ],
   "source": [
    "data_type = type(b1[1])\n",
    "print(data_type)"
   ]
  },
  {
   "cell_type": "code",
   "execution_count": 31,
   "id": "b95e319d-7024-40a4-83a4-d067328ab999",
   "metadata": {},
   "outputs": [],
   "source": [
    "'''2nd question'''\n",
    "var1=  ' '\n",
    "var2 = '[ DS , ML , Python]'\n",
    "var3 = [ 'DS' , 'ML' , 'Python' ]\n",
    "var4 = 1.\n"
   ]
  },
  {
   "cell_type": "code",
   "execution_count": 32,
   "id": "e07ec3df-686a-40dd-86ba-201bb661a1ae",
   "metadata": {},
   "outputs": [
    {
     "data": {
      "text/plain": [
       "str"
      ]
     },
     "execution_count": 32,
     "metadata": {},
     "output_type": "execute_result"
    }
   ],
   "source": [
    "type(var1)"
   ]
  },
  {
   "cell_type": "code",
   "execution_count": 33,
   "id": "4797cf64-ef6b-495e-b68c-6cc3c9336532",
   "metadata": {},
   "outputs": [
    {
     "data": {
      "text/plain": [
       "str"
      ]
     },
     "execution_count": 33,
     "metadata": {},
     "output_type": "execute_result"
    }
   ],
   "source": [
    "type(var2)"
   ]
  },
  {
   "cell_type": "code",
   "execution_count": 34,
   "id": "28201a93-df0e-4a45-92a3-91541f31cb6d",
   "metadata": {},
   "outputs": [
    {
     "data": {
      "text/plain": [
       "list"
      ]
     },
     "execution_count": 34,
     "metadata": {},
     "output_type": "execute_result"
    }
   ],
   "source": [
    "type(var3)"
   ]
  },
  {
   "cell_type": "code",
   "execution_count": 35,
   "id": "7d6f0fa9-c90b-48ab-baf3-e85f48f9c05f",
   "metadata": {},
   "outputs": [
    {
     "data": {
      "text/plain": [
       "float"
      ]
     },
     "execution_count": 35,
     "metadata": {},
     "output_type": "execute_result"
    }
   ],
   "source": [
    "type(var4)"
   ]
  },
  {
   "cell_type": "code",
   "execution_count": 1,
   "id": "859d274c-f46a-4ebb-9a90-53efadbae312",
   "metadata": {},
   "outputs": [],
   "source": [
    "'''3rd question'''\n",
    "a=10\n",
    "b=2"
   ]
  },
  {
   "cell_type": "code",
   "execution_count": 2,
   "id": "5974727b-a608-41dd-93cd-93eb5b2eb79d",
   "metadata": {},
   "outputs": [
    {
     "name": "stdout",
     "output_type": "stream",
     "text": [
      "The vaue of this is : 5.0\n"
     ]
    }
   ],
   "source": [
    "print(\"The vaue of this is :\",(a/b))"
   ]
  },
  {
   "cell_type": "code",
   "execution_count": 3,
   "id": "3eda2e93-03ff-4214-9bd7-b4689718856f",
   "metadata": {},
   "outputs": [
    {
     "name": "stdout",
     "output_type": "stream",
     "text": [
      "The vaue of this is : 0\n"
     ]
    }
   ],
   "source": [
    "print(\"The vaue of this is :\",(a%b))"
   ]
  },
  {
   "cell_type": "code",
   "execution_count": 5,
   "id": "9d489471-2981-489f-8c2b-4aa1f29522a5",
   "metadata": {},
   "outputs": [
    {
     "name": "stdout",
     "output_type": "stream",
     "text": [
      "The vaue of this is : 5\n"
     ]
    }
   ],
   "source": [
    "print(\"The vaue of this is :\",(a//b))\n"
   ]
  },
  {
   "cell_type": "code",
   "execution_count": 6,
   "id": "0295d77f-01b9-4bfb-83d6-6056005c127d",
   "metadata": {},
   "outputs": [
    {
     "name": "stdout",
     "output_type": "stream",
     "text": [
      "The vaue of this is : 100\n"
     ]
    }
   ],
   "source": [
    "print(\"The vaue of this is :\",(a**b))"
   ]
  },
  {
   "cell_type": "code",
   "execution_count": 7,
   "id": "d1fa4513-15ee-4521-8e27-baa58731c311",
   "metadata": {},
   "outputs": [
    {
     "name": "stdout",
     "output_type": "stream",
     "text": [
      "The element is:  1 and it's datatype is  <class 'int'>\n",
      "The element is:  1.2 and it's datatype is  <class 'float'>\n",
      "The element is:  2.333333333333 and it's datatype is  <class 'float'>\n",
      "The element is:  Juypter and it's datatype is  <class 'str'>\n",
      "The element is:  True and it's datatype is  <class 'bool'>\n",
      "The element is:  None and it's datatype is  <class 'NoneType'>\n",
      "The element is:  (1+5j) and it's datatype is  <class 'complex'>\n",
      "The element is:  [1, 2, 3] and it's datatype is  <class 'list'>\n",
      "The element is:  (1, 2) and it's datatype is  <class 'tuple'>\n",
      "The element is:  {8, 1} and it's datatype is  <class 'set'>\n"
     ]
    }
   ],
   "source": [
    "'''4th question'''\n",
    "listed=[1,1.2,2.333333333333,\"Juypter\",True,None,1+5j,[1,2,3],(1,2),{1,8}]\n",
    "for i in listed:\n",
    "    print(\"The element is: \",i,\"and it's datatype is \",type(i))"
   ]
  },
  {
   "cell_type": "code",
   "execution_count": 8,
   "id": "524b5d23-bbfb-460a-b43a-b86c9d3b7ca6",
   "metadata": {},
   "outputs": [
    {
     "name": "stdin",
     "output_type": "stream",
     "text": [
      "Enter the A & B value:  10 2\n"
     ]
    },
    {
     "name": "stdout",
     "output_type": "stream",
     "text": [
      "The count value is:  1\n"
     ]
    }
   ],
   "source": [
    "'''5th question'''\n",
    "listed=list(map(int,input(\"Enter the A & B value: \").split()))\n",
    "count=0\n",
    "if(listed[0]%listed[1]==0):\n",
    "    while(listed[0]%listed[1]==0):\n",
    "        count+=1\n",
    "        listed[0]=listed[0]/listed[1]\n",
    "    print(\"The count value is: \",count)\n",
    "else:\n",
    "    print(\"The number is not purely divisible\")"
   ]
  },
  {
   "cell_type": "code",
   "execution_count": 9,
   "id": "f20cc086-7677-4b8e-97c6-45d1828b3148",
   "metadata": {},
   "outputs": [
    {
     "name": "stdout",
     "output_type": "stream",
     "text": [
      "1  is not divisible by 3\n",
      "2  is not divisible by 3\n",
      "3  is divisible by 3\n",
      "4  is not divisible by 3\n",
      "5  is not divisible by 3\n",
      "6  is divisible by 3\n",
      "7  is not divisible by 3\n",
      "8  is not divisible by 3\n",
      "9  is divisible by 3\n",
      "10  is not divisible by 3\n",
      "11  is not divisible by 3\n",
      "12  is divisible by 3\n",
      "13  is not divisible by 3\n",
      "14  is not divisible by 3\n",
      "15  is divisible by 3\n",
      "16  is not divisible by 3\n",
      "17  is not divisible by 3\n",
      "18  is divisible by 3\n",
      "19  is not divisible by 3\n",
      "20  is not divisible by 3\n",
      "21  is divisible by 3\n",
      "22  is not divisible by 3\n",
      "23  is not divisible by 3\n",
      "24  is divisible by 3\n",
      "25  is not divisible by 3\n"
     ]
    }
   ],
   "source": [
    "'''6th question'''\n",
    "listed=[1, 2, 3, 4, 5, 6, 7, 8, 9, 10, 11, 12, 13, 14, 15, 16, 17, 18, 19, 20, 21, 22, 23, 24, 25 ]\n",
    "for i in listed:\n",
    "    if(i%3==0):\n",
    "        print(i,\" is divisible by 3\")\n",
    "    else:\n",
    "        print(i,\" is not divisible by 3\")"
   ]
  },
  {
   "cell_type": "code",
   "execution_count": 10,
   "id": "43aee6c7-5e8c-4f58-8058-54a2c6f0d944",
   "metadata": {},
   "outputs": [
    {
     "ename": "TypeError",
     "evalue": "'str' object does not support item assignment",
     "output_type": "error",
     "traceback": [
      "\u001b[0;31m---------------------------------------------------------------------------\u001b[0m",
      "\u001b[0;31mTypeError\u001b[0m                                 Traceback (most recent call last)",
      "Cell \u001b[0;32mIn[10], line 2\u001b[0m\n\u001b[1;32m      1\u001b[0m A\u001b[38;5;241m=\u001b[39m\u001b[38;5;124m\"\u001b[39m\u001b[38;5;124mOrange\u001b[39m\u001b[38;5;124m\"\u001b[39m\n\u001b[0;32m----> 2\u001b[0m \u001b[43mA\u001b[49m\u001b[43m[\u001b[49m\u001b[38;5;241;43m5\u001b[39;49m\u001b[43m]\u001b[49m\u001b[38;5;241m=\u001b[39m\u001b[38;5;124m'\u001b[39m\u001b[38;5;124mp\u001b[39m\u001b[38;5;124m'\u001b[39m\n\u001b[1;32m      3\u001b[0m \u001b[38;5;28mprint\u001b[39m(a)\n",
      "\u001b[0;31mTypeError\u001b[0m: 'str' object does not support item assignment"
     ]
    }
   ],
   "source": [
    "'''7th question'''\n",
    "A=\"Orange\"\n",
    "A[5]='p'\n",
    "print(a)'''example for unmutable elements\n",
    "             tuples are not unmutable'''"
   ]
  },
  {
   "cell_type": "code",
   "execution_count": 11,
   "id": "62cac489-b681-43e7-94d5-57ba366c16b2",
   "metadata": {},
   "outputs": [
    {
     "ename": "TypeError",
     "evalue": "'tuple' object does not support item assignment",
     "output_type": "error",
     "traceback": [
      "\u001b[0;31m---------------------------------------------------------------------------\u001b[0m",
      "\u001b[0;31mTypeError\u001b[0m                                 Traceback (most recent call last)",
      "Cell \u001b[0;32mIn[11], line 2\u001b[0m\n\u001b[1;32m      1\u001b[0m B\u001b[38;5;241m=\u001b[39m(\u001b[38;5;241m1\u001b[39m,\u001b[38;5;241m2\u001b[39m,\u001b[38;5;241m3\u001b[39m)\n\u001b[0;32m----> 2\u001b[0m \u001b[43mB\u001b[49m\u001b[43m[\u001b[49m\u001b[38;5;241;43m1\u001b[39;49m\u001b[43m]\u001b[49m\u001b[38;5;241m=\u001b[39m\u001b[38;5;241m78\u001b[39m\n\u001b[1;32m      3\u001b[0m \u001b[38;5;28mprint\u001b[39m(B)\n",
      "\u001b[0;31mTypeError\u001b[0m: 'tuple' object does not support item assignment"
     ]
    }
   ],
   "source": [
    "B=(1,2,3)\n",
    "B[1]=78\n",
    "print(B)'''example for unmutable elements\n",
    "             tuples are not unmutable'''"
   ]
  },
  {
   "cell_type": "code",
   "execution_count": 12,
   "id": "734fe3d2-eafd-4330-b7b9-fad812cb2cda",
   "metadata": {},
   "outputs": [
    {
     "name": "stdout",
     "output_type": "stream",
     "text": [
      "[1, 'one', 3]\n"
     ]
    }
   ],
   "source": [
    "listed=[1,2,3]\n",
    "listed[1]=\"one\"\n",
    "print(listed)'''example for mutable elements\n",
    "                  list are mutable'''"
   ]
  },
  {
   "cell_type": "code",
   "execution_count": null,
   "id": "d51097bc-c779-4c8f-9980-62911d23c342",
   "metadata": {},
   "outputs": [],
   "source": []
  }
 ],
 "metadata": {
  "kernelspec": {
   "display_name": "Python 3 (ipykernel)",
   "language": "python",
   "name": "python3"
  },
  "language_info": {
   "codemirror_mode": {
    "name": "ipython",
    "version": 3
   },
   "file_extension": ".py",
   "mimetype": "text/x-python",
   "name": "python",
   "nbconvert_exporter": "python",
   "pygments_lexer": "ipython3",
   "version": "3.10.8"
  }
 },
 "nbformat": 4,
 "nbformat_minor": 5
}
